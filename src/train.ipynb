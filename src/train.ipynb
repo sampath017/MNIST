{
  "cells": [
    {
      "cell_type": "code",
      "execution_count": 1,
      "id": "8460534f-7fd6-43be-b538-25576f9d8f58",
      "metadata": {
        "id": "8460534f-7fd6-43be-b538-25576f9d8f58"
      },
      "outputs": [],
      "source": [
        "import os\n",
        "import logging\n",
        "import wandb\n",
        "import torch\n",
        "\n",
        "from pathlib import Path\n",
        "from lightning.pytorch import (\n",
        "    callbacks,\n",
        "    loggers,\n",
        "    Trainer,\n",
        "    utilities\n",
        ")\n",
        "\n",
        "from model import Digits\n",
        "from data_module import MNISTDataModule\n",
        "from extentions.callbacks import DiffEarlyStopping, EarlyStopping"
      ]
    },
    {
      "cell_type": "code",
      "execution_count": 2,
      "id": "764ab7d9",
      "metadata": {},
      "outputs": [],
      "source": [
        "logging.getLogger(\"lightning.pytorch\").setLevel(logging.INFO)\n",
        "root_path = Path('../')\n",
        "os.environ['WANDB_NOTEBOOK_NAME'] = \"train.ipynb\"\n",
        "\n",
        "dm = MNISTDataModule(data_dir=(root_path / 'data').as_posix())"
      ]
    },
    {
      "attachments": {},
      "cell_type": "markdown",
      "id": "432b1cd2",
      "metadata": {
        "id": "432b1cd2"
      },
      "source": [
        "# Training"
      ]
    },
    {
      "cell_type": "code",
      "execution_count": 3,
      "id": "d30157c8",
      "metadata": {
        "id": "d30157c8"
      },
      "outputs": [],
      "source": [
        "model = Digits(\n",
        "    optimizer_name='Adam',\n",
        "    # optimizer_hparams={\n",
        "    #     'lr': 0.001,\n",
        "    #     'momentum': 0.9\n",
        "    # }\n",
        ")\n",
        "\n",
        "earlystopping_callbacks = [\n",
        "    DiffEarlyStopping(\n",
        "        monitor1=\"val_loss\",\n",
        "        monitor2=\"train_loss\",\n",
        "        diff_threshold=0.05, # like val_loss=0.09, train_loss=0.04\n",
        "        patience=5,\n",
        "        verbose=True\n",
        "    ),\n",
        "    EarlyStopping(\n",
        "        monitor=\"val_acc\",\n",
        "        min_delta=0.0,\n",
        "        mode='max',\n",
        "        stopping_threshold=99.99,\n",
        "        patience=5,\n",
        "        verbose=True\n",
        "    ),\n",
        "]\n",
        "\n",
        "checkpoint_callback = callbacks.ModelCheckpoint(\n",
        "    filename=\"epoch={epoch}-loss={val_loss:.3f}\",\n",
        "    auto_insert_metric_name=False,\n",
        "    monitor='val_loss',\n",
        "    mode='min',\n",
        "    save_top_k=3\n",
        ")"
      ]
    },
    {
      "cell_type": "code",
      "execution_count": 4,
      "id": "Wvh5_S7hFo02",
      "metadata": {
        "colab": {
          "base_uri": "https://localhost:8080/"
        },
        "id": "Wvh5_S7hFo02",
        "outputId": "0118779b-aa91-46db-8a3b-c07c1ac71c38"
      },
      "outputs": [
        {
          "data": {
            "text/plain": [
              "  | Name  | Type       | Params\n",
              "-------------------------------------\n",
              "0 | model | Sequential | 322 K \n",
              "-------------------------------------\n",
              "322 K     Trainable params\n",
              "0         Non-trainable params\n",
              "322 K     Total params\n",
              "1.288     Total estimated model params size (MB)"
            ]
          },
          "execution_count": 4,
          "metadata": {},
          "output_type": "execute_result"
        }
      ],
      "source": [
        "utilities.model_summary.ModelSummary(model)"
      ]
    },
    {
      "cell_type": "code",
      "execution_count": 5,
      "id": "155f1297",
      "metadata": {
        "colab": {
          "base_uri": "https://localhost:8080/"
        },
        "editable": true,
        "id": "155f1297",
        "outputId": "cf1588b2-737e-45b5-87dc-8273d538148c",
        "tags": []
      },
      "outputs": [
        {
          "name": "stderr",
          "output_type": "stream",
          "text": [
            "\u001b[34m\u001b[1mwandb\u001b[0m: Logging into wandb.ai. (Learn how to deploy a W&B server locally: https://wandb.me/wandb-server)\n",
            "\u001b[34m\u001b[1mwandb\u001b[0m: You can find your API key in your browser here: https://wandb.ai/authorize\n",
            "\u001b[34m\u001b[1mwandb\u001b[0m: Paste an API key from your profile and hit enter, or press ctrl+c to quit:\u001b[34m\u001b[1mwandb\u001b[0m: Appending key for api.wandb.ai to your netrc file: /root/.netrc\n"
          ]
        },
        {
          "data": {
            "application/vnd.jupyter.widget-view+json": {
              "model_id": "9a151d4fc5a646eb984cfd6b4223f874",
              "version_major": 2,
              "version_minor": 0
            },
            "text/plain": [
              "VBox(children=(Label(value='Waiting for wandb.init()...\\r'), FloatProgress(value=0.011114270566678089, max=1.0…"
            ]
          },
          "metadata": {},
          "output_type": "display_data"
        },
        {
          "data": {
            "text/html": [
              "Tracking run with wandb version 0.15.10"
            ],
            "text/plain": [
              "<IPython.core.display.HTML object>"
            ]
          },
          "metadata": {},
          "output_type": "display_data"
        },
        {
          "data": {
            "text/html": [
              "Run data is saved locally in <code>../logs/wandb/run-20230914_153006-tkgypipd</code>"
            ],
            "text/plain": [
              "<IPython.core.display.HTML object>"
            ]
          },
          "metadata": {},
          "output_type": "display_data"
        },
        {
          "data": {
            "text/html": [
              "Syncing run <strong><a href='https://wandb.ai/sampath017/digits/runs/tkgypipd' target=\"_blank\">vibrant-donkey-123</a></strong> to <a href='https://wandb.ai/sampath017/digits' target=\"_blank\">Weights & Biases</a> (<a href='https://wandb.me/run' target=\"_blank\">docs</a>)<br/>"
            ],
            "text/plain": [
              "<IPython.core.display.HTML object>"
            ]
          },
          "metadata": {},
          "output_type": "display_data"
        },
        {
          "data": {
            "text/html": [
              " View project at <a href='https://wandb.ai/sampath017/digits' target=\"_blank\">https://wandb.ai/sampath017/digits</a>"
            ],
            "text/plain": [
              "<IPython.core.display.HTML object>"
            ]
          },
          "metadata": {},
          "output_type": "display_data"
        },
        {
          "data": {
            "text/html": [
              " View run at <a href='https://wandb.ai/sampath017/digits/runs/tkgypipd' target=\"_blank\">https://wandb.ai/sampath017/digits/runs/tkgypipd</a>"
            ],
            "text/plain": [
              "<IPython.core.display.HTML object>"
            ]
          },
          "metadata": {},
          "output_type": "display_data"
        },
        {
          "name": "stderr",
          "output_type": "stream",
          "text": [
            "GPU available: False, used: False\n",
            "TPU available: False, using: 0 TPU cores\n",
            "IPU available: False, using: 0 IPUs\n",
            "HPU available: False, using: 0 HPUs\n"
          ]
        }
      ],
      "source": [
        "log_dir = root_path/'logs'\n",
        "log_dir.mkdir(exist_ok=True)\n",
        "logger = loggers.WandbLogger(\n",
        "    project='digits',\n",
        "    save_dir=log_dir,\n",
        "    log_model='all',\n",
        ")\n",
        "\n",
        "max_time =  {'minutes': 20} if torch.cuda.is_available() else {'hours': 2}\n",
        "trainer = Trainer(\n",
        "    min_epochs=10,\n",
        "    max_epochs=50,\n",
        "    log_every_n_steps=1,\n",
        "    max_time=max_time,\n",
        "    logger=logger,\n",
        "    callbacks=[checkpoint_callback] + earlystopping_callbacks, # type: ignore\n",
        "    enable_model_summary=False,\n",
        ")"
      ]
    },
    {
      "cell_type": "code",
      "execution_count": null,
      "id": "zEHbqggmE5GH",
      "metadata": {
        "id": "zEHbqggmE5GH"
      },
      "outputs": [
        {
          "ename": "",
          "evalue": "",
          "output_type": "error",
          "traceback": [
            "\u001b[1;31mFailed to start the Kernel. \n",
            "\u001b[1;31mUnable to start Kernel '.venv (Python 3.11.5)' due to a timeout waiting for the ports to get used. \n",
            "\u001b[1;31mView Jupyter <a href='command:jupyter.viewOutput'>log</a> for further details."
          ]
        }
      ],
      "source": [
        "trainer.fit(model, datamodule=dm)\n",
        "wandb.finish()"
      ]
    },
    {
      "cell_type": "code",
      "execution_count": null,
      "id": "85634a30",
      "metadata": {
        "id": "85634a30"
      },
      "outputs": [
        {
          "ename": "",
          "evalue": "",
          "output_type": "error",
          "traceback": [
            "\u001b[1;31mFailed to start the Kernel. \n",
            "\u001b[1;31mUnable to start Kernel '.venv (Python 3.11.5)' due to a timeout waiting for the ports to get used. \n",
            "\u001b[1;31mView Jupyter <a href='command:jupyter.viewOutput'>log</a> for further details."
          ]
        }
      ],
      "source": [
        "checkpoint_callback.best_model_path"
      ]
    },
    {
      "cell_type": "code",
      "execution_count": null,
      "id": "83e3f5e4",
      "metadata": {
        "id": "83e3f5e4"
      },
      "outputs": [
        {
          "ename": "",
          "evalue": "",
          "output_type": "error",
          "traceback": [
            "\u001b[1;31mFailed to start the Kernel. \n",
            "\u001b[1;31mUnable to start Kernel '.venv (Python 3.11.5)' due to a timeout waiting for the ports to get used. \n",
            "\u001b[1;31mView Jupyter <a href='command:jupyter.viewOutput'>log</a> for further details."
          ]
        }
      ],
      "source": []
    }
  ],
  "metadata": {
    "accelerator": "GPU",
    "colab": {
      "gpuType": "T4",
      "provenance": []
    },
    "kernelspec": {
      "display_name": "Python 3",
      "name": "python3"
    },
    "language_info": {
      "codemirror_mode": {
        "name": "ipython",
        "version": 3
      },
      "file_extension": ".py",
      "mimetype": "text/x-python",
      "name": "python",
      "nbconvert_exporter": "python",
      "pygments_lexer": "ipython3",
      "version": "3.10.11"
    }
  },
  "nbformat": 4,
  "nbformat_minor": 5
}
