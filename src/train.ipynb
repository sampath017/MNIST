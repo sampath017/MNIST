{
  "cells": [
    {
      "cell_type": "code",
      "execution_count": 5,
      "id": "8460534f-7fd6-43be-b538-25576f9d8f58",
      "metadata": {
        "id": "8460534f-7fd6-43be-b538-25576f9d8f58"
      },
      "outputs": [],
      "source": [
        "import os\n",
        "import logging\n",
        "import wandb\n",
        "import torch\n",
        "\n",
        "from pathlib import Path\n",
        "from lightning.pytorch import (\n",
        "    callbacks,\n",
        "    loggers,\n",
        "    Trainer,\n",
        "    utilities\n",
        ")\n",
        "\n",
        "from model import Digits\n",
        "from data_module import MNISTDataModule\n",
        "from extentions.callbacks import DiffEarlyStopping, EarlyStopping"
      ]
    },
    {
      "cell_type": "code",
      "execution_count": 6,
      "id": "764ab7d9",
      "metadata": {},
      "outputs": [],
      "source": [
        "logging.getLogger(\"lightning.pytorch\").setLevel(logging.INFO)\n",
        "root_path = Path('../')\n",
        "os.environ['WANDB_NOTEBOOK_NAME'] = \"train.ipynb\"\n",
        "\n",
        "dm = MNISTDataModule(data_dir=(root_path / 'data').as_posix())"
      ]
    },
    {
      "attachments": {},
      "cell_type": "markdown",
      "id": "432b1cd2",
      "metadata": {
        "id": "432b1cd2"
      },
      "source": [
        "# Training"
      ]
    },
    {
      "cell_type": "code",
      "execution_count": 7,
      "id": "d30157c8",
      "metadata": {
        "id": "d30157c8"
      },
      "outputs": [],
      "source": [
        "model = Digits(\n",
        "    optimizer_name='Adam',\n",
        "    # optimizer_hparams={\n",
        "    #     'lr': 0.001,\n",
        "    #     'momentum': 0.9\n",
        "    # }\n",
        ")\n",
        "\n",
        "earlystopping_callbacks = [\n",
        "    DiffEarlyStopping(\n",
        "        monitor1=\"val_loss\",\n",
        "        monitor2=\"train_loss\",\n",
        "        diff_threshold=0.05, # like val_loss=0.09, train_loss=0.04\n",
        "        patience=5,\n",
        "        verbose=True\n",
        "    ),\n",
        "    EarlyStopping(\n",
        "        monitor=\"val_acc\",\n",
        "        min_delta=0.0,\n",
        "        mode='max',\n",
        "        stopping_threshold=99.99,\n",
        "        patience=5,\n",
        "        verbose=True\n",
        "    ),\n",
        "]\n",
        "\n",
        "checkpoint_callback = callbacks.ModelCheckpoint(\n",
        "    filename=\"epoch={epoch}-loss={val_loss:.3f}\",\n",
        "    auto_insert_metric_name=False,\n",
        "    monitor='val_loss',\n",
        "    mode='min',\n",
        "    save_top_k=3\n",
        ")"
      ]
    },
    {
      "cell_type": "code",
      "execution_count": 8,
      "id": "Wvh5_S7hFo02",
      "metadata": {
        "colab": {
          "base_uri": "https://localhost:8080/"
        },
        "id": "Wvh5_S7hFo02",
        "outputId": "0118779b-aa91-46db-8a3b-c07c1ac71c38"
      },
      "outputs": [
        {
          "data": {
            "text/plain": [
              "  | Name  | Type       | Params\n",
              "-------------------------------------\n",
              "0 | model | Sequential | 669 K \n",
              "-------------------------------------\n",
              "669 K     Trainable params\n",
              "0         Non-trainable params\n",
              "669 K     Total params\n",
              "2.679     Total estimated model params size (MB)"
            ]
          },
          "execution_count": 8,
          "metadata": {},
          "output_type": "execute_result"
        }
      ],
      "source": [
        "utilities.model_summary.ModelSummary(model)"
      ]
    },
    {
      "cell_type": "code",
      "execution_count": 9,
      "id": "155f1297",
      "metadata": {
        "colab": {
          "base_uri": "https://localhost:8080/"
        },
        "editable": true,
        "id": "155f1297",
        "outputId": "cf1588b2-737e-45b5-87dc-8273d538148c",
        "tags": []
      },
      "outputs": [
        {
          "name": "stderr",
          "output_type": "stream",
          "text": [
            "\u001b[34m\u001b[1mwandb\u001b[0m: Currently logged in as: \u001b[33msampath017\u001b[0m. Use \u001b[1m`wandb login --relogin`\u001b[0m to force relogin\n"
          ]
        },
        {
          "data": {
            "application/vnd.jupyter.widget-view+json": {
              "model_id": "d1e2e6b42e454186b950768cf4a08e4a",
              "version_major": 2,
              "version_minor": 0
            },
            "text/plain": [
              "VBox(children=(Label(value='Waiting for wandb.init()...\\r'), FloatProgress(value=0.01693333333338766, max=1.0)…"
            ]
          },
          "metadata": {},
          "output_type": "display_data"
        },
        {
          "data": {
            "text/html": [
              "wandb version 0.15.10 is available!  To upgrade, please run:\n",
              " $ pip install wandb --upgrade"
            ],
            "text/plain": [
              "<IPython.core.display.HTML object>"
            ]
          },
          "metadata": {},
          "output_type": "display_data"
        },
        {
          "data": {
            "text/html": [
              "Tracking run with wandb version 0.15.8"
            ],
            "text/plain": [
              "<IPython.core.display.HTML object>"
            ]
          },
          "metadata": {},
          "output_type": "display_data"
        },
        {
          "data": {
            "text/html": [
              "Run data is saved locally in <code>..\\logs\\wandb\\run-20230912_153323-rjs01sfc</code>"
            ],
            "text/plain": [
              "<IPython.core.display.HTML object>"
            ]
          },
          "metadata": {},
          "output_type": "display_data"
        },
        {
          "data": {
            "text/html": [
              "Syncing run <strong><a href='https://wandb.ai/sampath017/digits/runs/rjs01sfc' target=\"_blank\">glorious-disco-110</a></strong> to <a href='https://wandb.ai/sampath017/digits' target=\"_blank\">Weights & Biases</a> (<a href='https://wandb.me/run' target=\"_blank\">docs</a>)<br/>"
            ],
            "text/plain": [
              "<IPython.core.display.HTML object>"
            ]
          },
          "metadata": {},
          "output_type": "display_data"
        },
        {
          "data": {
            "text/html": [
              " View project at <a href='https://wandb.ai/sampath017/digits' target=\"_blank\">https://wandb.ai/sampath017/digits</a>"
            ],
            "text/plain": [
              "<IPython.core.display.HTML object>"
            ]
          },
          "metadata": {},
          "output_type": "display_data"
        },
        {
          "data": {
            "text/html": [
              " View run at <a href='https://wandb.ai/sampath017/digits/runs/rjs01sfc' target=\"_blank\">https://wandb.ai/sampath017/digits/runs/rjs01sfc</a>"
            ],
            "text/plain": [
              "<IPython.core.display.HTML object>"
            ]
          },
          "metadata": {},
          "output_type": "display_data"
        },
        {
          "name": "stderr",
          "output_type": "stream",
          "text": [
            "GPU available: False, used: False\n",
            "TPU available: False, using: 0 TPU cores\n",
            "IPU available: False, using: 0 IPUs\n",
            "HPU available: False, using: 0 HPUs\n"
          ]
        }
      ],
      "source": [
        "log_dir = root_path/'logs'\n",
        "log_dir.mkdir(exist_ok=True)\n",
        "logger = loggers.WandbLogger(\n",
        "    project='digits',\n",
        "    save_dir=log_dir,\n",
        "    log_model='all',\n",
        ")\n",
        "\n",
        "max_time =  {'minutes': 20} if torch.cuda.is_available() else {'hours': 2}\n",
        "trainer = Trainer(\n",
        "    min_epochs=10,\n",
        "    max_epochs=50,\n",
        "    log_every_n_steps=1,\n",
        "    max_time=max_time,\n",
        "    logger=logger,\n",
        "    callbacks=[checkpoint_callback] + earlystopping_callbacks, # type: ignore\n",
        "    enable_model_summary=False,\n",
        ")"
      ]
    },
    {
      "cell_type": "code",
      "execution_count": 10,
      "id": "zEHbqggmE5GH",
      "metadata": {
        "id": "zEHbqggmE5GH"
      },
      "outputs": [
        {
          "data": {
            "application/vnd.jupyter.widget-view+json": {
              "model_id": "a152ff4d62f0497d8358f8793ba7e9f0",
              "version_major": 2,
              "version_minor": 0
            },
            "text/plain": [
              "Sanity Checking: 0it [00:00, ?it/s]"
            ]
          },
          "metadata": {},
          "output_type": "display_data"
        },
        {
          "data": {
            "application/vnd.jupyter.widget-view+json": {
              "model_id": "c907ea733a624140af9d2bfa36dee110",
              "version_major": 2,
              "version_minor": 0
            },
            "text/plain": [
              "Training: 0it [00:00, ?it/s]"
            ]
          },
          "metadata": {},
          "output_type": "display_data"
        },
        {
          "data": {
            "application/vnd.jupyter.widget-view+json": {
              "model_id": "de83b9b49b6f4071bc1f929cf9af4853",
              "version_major": 2,
              "version_minor": 0
            },
            "text/plain": [
              "Validation: 0it [00:00, ?it/s]"
            ]
          },
          "metadata": {},
          "output_type": "display_data"
        },
        {
          "data": {
            "application/vnd.jupyter.widget-view+json": {
              "model_id": "21100cb3112f48898a07483b1e2abbaa",
              "version_major": 2,
              "version_minor": 0
            },
            "text/plain": [
              "Validation: 0it [00:00, ?it/s]"
            ]
          },
          "metadata": {},
          "output_type": "display_data"
        },
        {
          "data": {
            "application/vnd.jupyter.widget-view+json": {
              "model_id": "2ee06ba1c3df44399d6e251fadb91db8",
              "version_major": 2,
              "version_minor": 0
            },
            "text/plain": [
              "Validation: 0it [00:00, ?it/s]"
            ]
          },
          "metadata": {},
          "output_type": "display_data"
        },
        {
          "data": {
            "application/vnd.jupyter.widget-view+json": {
              "model_id": "eeb04e53d9c948c39f4eb035e3b93bce",
              "version_major": 2,
              "version_minor": 0
            },
            "text/plain": [
              "Validation: 0it [00:00, ?it/s]"
            ]
          },
          "metadata": {},
          "output_type": "display_data"
        },
        {
          "name": "stderr",
          "output_type": "stream",
          "text": [
            "DiffEarlyStopping: Monitored metrics val_loss-train_loss >= 0.05. Best score: inf. Signaling Trainer to stop.\n",
            "Trainer was signaled to stop but the required `min_epochs=10` or `min_steps=None` has not been met. Training will continue...\n"
          ]
        },
        {
          "data": {
            "application/vnd.jupyter.widget-view+json": {
              "model_id": "297ebdb6b98a4706b55cfa48a1c6ae13",
              "version_major": 2,
              "version_minor": 0
            },
            "text/plain": [
              "Validation: 0it [00:00, ?it/s]"
            ]
          },
          "metadata": {},
          "output_type": "display_data"
        },
        {
          "name": "stderr",
          "output_type": "stream",
          "text": [
            "DiffEarlyStopping: Monitored metrics val_loss-train_loss >= 0.05. Best score: inf. Signaling Trainer to stop.\n"
          ]
        },
        {
          "data": {
            "application/vnd.jupyter.widget-view+json": {
              "model_id": "80ffbd778b0b42f3a63c3583617e674d",
              "version_major": 2,
              "version_minor": 0
            },
            "text/plain": [
              "Validation: 0it [00:00, ?it/s]"
            ]
          },
          "metadata": {},
          "output_type": "display_data"
        },
        {
          "name": "stderr",
          "output_type": "stream",
          "text": [
            "DiffEarlyStopping: Monitored metrics val_loss-train_loss >= 0.05. Best score: inf. Signaling Trainer to stop.\n"
          ]
        },
        {
          "data": {
            "application/vnd.jupyter.widget-view+json": {
              "model_id": "5662e95439cf4bd8a0dd959a2ac25f78",
              "version_major": 2,
              "version_minor": 0
            },
            "text/plain": [
              "Validation: 0it [00:00, ?it/s]"
            ]
          },
          "metadata": {},
          "output_type": "display_data"
        },
        {
          "name": "stderr",
          "output_type": "stream",
          "text": [
            "DiffEarlyStopping: Monitored metrics val_loss-train_loss >= 0.05. Best score: inf. Signaling Trainer to stop.\n"
          ]
        },
        {
          "data": {
            "application/vnd.jupyter.widget-view+json": {
              "model_id": "a55a9bee525c47fea101b38794f3dc61",
              "version_major": 2,
              "version_minor": 0
            },
            "text/plain": [
              "Validation: 0it [00:00, ?it/s]"
            ]
          },
          "metadata": {},
          "output_type": "display_data"
        },
        {
          "name": "stderr",
          "output_type": "stream",
          "text": [
            "DiffEarlyStopping: Monitored metrics val_loss-train_loss >= 0.05. Best score: inf. Signaling Trainer to stop.\n"
          ]
        },
        {
          "data": {
            "application/vnd.jupyter.widget-view+json": {
              "model_id": "22630e26f0c94838a2999c603e94ee5e",
              "version_major": 2,
              "version_minor": 0
            },
            "text/plain": [
              "Validation: 0it [00:00, ?it/s]"
            ]
          },
          "metadata": {},
          "output_type": "display_data"
        },
        {
          "name": "stderr",
          "output_type": "stream",
          "text": [
            "DiffEarlyStopping: Monitored metrics val_loss-train_loss >= 0.05. Best score: inf. Signaling Trainer to stop.\n"
          ]
        },
        {
          "data": {
            "application/vnd.jupyter.widget-view+json": {
              "model_id": "d7d4bd05561b43b7a7b21c8db8c5f024",
              "version_major": 2,
              "version_minor": 0
            },
            "text/plain": [
              "Validation: 0it [00:00, ?it/s]"
            ]
          },
          "metadata": {},
          "output_type": "display_data"
        },
        {
          "name": "stderr",
          "output_type": "stream",
          "text": [
            "DiffEarlyStopping: Monitored metrics val_loss-train_loss >= 0.05. Best score: inf. Signaling Trainer to stop.\n"
          ]
        },
        {
          "data": {
            "text/html": [
              "Waiting for W&B process to finish... <strong style=\"color:green\">(success).</strong>"
            ],
            "text/plain": [
              "<IPython.core.display.HTML object>"
            ]
          },
          "metadata": {},
          "output_type": "display_data"
        },
        {
          "data": {
            "application/vnd.jupyter.widget-view+json": {
              "model_id": "842aeb68c9944bf6b11ae2f7bd60428c",
              "version_major": 2,
              "version_minor": 0
            },
            "text/plain": [
              "VBox(children=(Label(value='53.720 MB of 53.720 MB uploaded (0.000 MB deduped)\\r'), FloatProgress(value=1.0, m…"
            ]
          },
          "metadata": {},
          "output_type": "display_data"
        },
        {
          "data": {
            "text/html": [
              "<style>\n",
              "    table.wandb td:nth-child(1) { padding: 0 10px; text-align: left ; width: auto;} td:nth-child(2) {text-align: left ; width: 100%}\n",
              "    .wandb-row { display: flex; flex-direction: row; flex-wrap: wrap; justify-content: flex-start; width: 100% }\n",
              "    .wandb-col { display: flex; flex-direction: column; flex-basis: 100%; flex: 1; padding: 10px; }\n",
              "    </style>\n",
              "<div class=\"wandb-row\"><div class=\"wandb-col\"><h3>Run history:</h3><br/><table class=\"wandb\"><tr><td>epoch</td><td>▁▁▁▁▂▂▂▂▃▃▃▃▃▃▃▃▄▄▄▄▅▅▅▅▆▆▆▆▆▆▆▆▇▇▇▇████</td></tr><tr><td>train_acc_epoch</td><td>▁▆▇▇▇█████</td></tr><tr><td>train_acc_step</td><td>▂▆▆▁▇▇█▅█▅▇▇▆▇▆▇▇▇▇▇▇██▇█▇▇█▇██▇███▇▆▇██</td></tr><tr><td>train_loss_epoch</td><td>█▃▂▂▂▁▁▁▁▁</td></tr><tr><td>train_loss_step</td><td>█▅▅▇▂▂▂▆▂▅▂▂▃▂▂▂▃▂▂▂▁▁▁▂▁▂▁▁▁▁▁▂▁▁▁▁▃▁▁▁</td></tr><tr><td>trainer/global_step</td><td>▁▁▁▁▂▂▂▁▂▃▃▂▃▃▄▂▄▄▄▂▄▅▅▃▅▆▆▃▆▆▇▃▇▇▇▃▇██▄</td></tr><tr><td>val_acc_epoch</td><td>▁▄▄▅▄▇█▇▇█</td></tr><tr><td>val_acc_step</td><td>▂▄▂▇▁▄▄▇▇▁▇▇▄▅▅██▇▁▅▄██▄▄▇███▅█▅▅▇█▇▅▇█▇</td></tr><tr><td>val_loss_epoch</td><td>█▃▄▄▆▂▁▂▄▂</td></tr><tr><td>val_loss_step</td><td>█▃▅▂▅▅▄▂▂▆▂▂▃▄▂▂▁▃█▅▄▁▁▇▇▂▁▁▁▃▁▃▇▂▁▂▄▂▁▃</td></tr></table><br/></div><div class=\"wandb-col\"><h3>Run summary:</h3><br/><table class=\"wandb\"><tr><td>epoch</td><td>9</td></tr><tr><td>train_acc_epoch</td><td>99.46191</td></tr><tr><td>train_acc_step</td><td>100.0</td></tr><tr><td>train_loss_epoch</td><td>0.01658</td></tr><tr><td>train_loss_step</td><td>4e-05</td></tr><tr><td>trainer/global_step</td><td>6569</td></tr><tr><td>val_acc_epoch</td><td>97.89445</td></tr><tr><td>val_acc_step</td><td>100.0</td></tr><tr><td>val_loss_epoch</td><td>0.09563</td></tr><tr><td>val_loss_step</td><td>0.00297</td></tr></table><br/></div></div>"
            ],
            "text/plain": [
              "<IPython.core.display.HTML object>"
            ]
          },
          "metadata": {},
          "output_type": "display_data"
        },
        {
          "data": {
            "text/html": [
              " View run <strong style=\"color:#cdcd00\">glorious-disco-110</strong> at: <a href='https://wandb.ai/sampath017/digits/runs/rjs01sfc' target=\"_blank\">https://wandb.ai/sampath017/digits/runs/rjs01sfc</a><br/> View job at <a href='https://wandb.ai/sampath017/digits/jobs/QXJ0aWZhY3RDb2xsZWN0aW9uOjk2ODcwNjY3/version_details/v0' target=\"_blank\">https://wandb.ai/sampath017/digits/jobs/QXJ0aWZhY3RDb2xsZWN0aW9uOjk2ODcwNjY3/version_details/v0</a><br/>Synced 5 W&B file(s), 0 media file(s), 9 artifact file(s) and 0 other file(s)"
            ],
            "text/plain": [
              "<IPython.core.display.HTML object>"
            ]
          },
          "metadata": {},
          "output_type": "display_data"
        },
        {
          "data": {
            "text/html": [
              "Find logs at: <code>..\\logs\\wandb\\run-20230912_153323-rjs01sfc\\logs</code>"
            ],
            "text/plain": [
              "<IPython.core.display.HTML object>"
            ]
          },
          "metadata": {},
          "output_type": "display_data"
        }
      ],
      "source": [
        "trainer.fit(model, datamodule=dm)\n",
        "wandb.finish()"
      ]
    },
    {
      "cell_type": "code",
      "execution_count": 11,
      "id": "85634a30",
      "metadata": {
        "id": "85634a30"
      },
      "outputs": [
        {
          "data": {
            "text/plain": [
              "'..\\\\logs\\\\digits\\\\rjs01sfc\\\\checkpoints\\\\epoch=6-loss=0.088.ckpt'"
            ]
          },
          "execution_count": 11,
          "metadata": {},
          "output_type": "execute_result"
        }
      ],
      "source": [
        "checkpoint_callback.best_model_path"
      ]
    },
    {
      "cell_type": "code",
      "execution_count": null,
      "id": "83e3f5e4",
      "metadata": {
        "id": "83e3f5e4"
      },
      "outputs": [],
      "source": []
    }
  ],
  "metadata": {
    "accelerator": "GPU",
    "colab": {
      "gpuType": "T4",
      "provenance": []
    },
    "kernelspec": {
      "display_name": "Python 3",
      "name": "python3"
    },
    "language_info": {
      "codemirror_mode": {
        "name": "ipython",
        "version": 3
      },
      "file_extension": ".py",
      "mimetype": "text/x-python",
      "name": "python",
      "nbconvert_exporter": "python",
      "pygments_lexer": "ipython3",
      "version": "3.11.5"
    }
  },
  "nbformat": 4,
  "nbformat_minor": 5
}
