{
  "cells": [
    {
      "cell_type": "code",
      "execution_count": 1,
      "id": "8460534f-7fd6-43be-b538-25576f9d8f58",
      "metadata": {
        "id": "8460534f-7fd6-43be-b538-25576f9d8f58"
      },
      "outputs": [
        {
          "ename": "ModuleNotFoundError",
          "evalue": "No module named 'extentions'",
          "output_type": "error",
          "traceback": [
            "\u001b[1;31m---------------------------------------------------------------------------\u001b[0m",
            "\u001b[1;31mModuleNotFoundError\u001b[0m                       Traceback (most recent call last)",
            "Cell \u001b[1;32mIn[1], line 20\u001b[0m\n\u001b[0;32m     18\u001b[0m \u001b[39mfrom\u001b[39;00m \u001b[39mmodel\u001b[39;00m \u001b[39mimport\u001b[39;00m Digits\n\u001b[0;32m     19\u001b[0m \u001b[39mfrom\u001b[39;00m \u001b[39mdata_module\u001b[39;00m \u001b[39mimport\u001b[39;00m MNISTDataModule\n\u001b[1;32m---> 20\u001b[0m \u001b[39mfrom\u001b[39;00m \u001b[39mextentions\u001b[39;00m\u001b[39m.\u001b[39;00m\u001b[39mext\u001b[39;00m\u001b[39m.\u001b[39;00m\u001b[39mcallbacks\u001b[39;00m \u001b[39mimport\u001b[39;00m DiffEarlyStopping, EarlyStopping\n",
            "\u001b[1;31mModuleNotFoundError\u001b[0m: No module named 'extentions'"
          ]
        }
      ],
      "source": [
        "import logging\n",
        "import wandb\n",
        "import torch\n",
        "import os\n",
        "import json\n",
        "\n",
        "from pathlib import Path\n",
        "from lightning.pytorch import (\n",
        "    callbacks,\n",
        "    loggers,\n",
        "    Trainer,\n",
        "    utilities\n",
        ")\n",
        "\n",
        "from model import Digits\n",
        "from data_module import MNISTDataModule\n",
        "from extentions.ext.callbacks import DiffEarlyStopping, EarlyStopping"
      ]
    },
    {
      "cell_type": "code",
      "execution_count": 4,
      "id": "764ab7d9",
      "metadata": {},
      "outputs": [],
      "source": [
        "root_path = Path('../')\n",
        "\n",
        "dm = MNISTDataModule(\n",
        "    data_dir=(root_path / 'data').as_posix(),\n",
        ")"
      ]
    },
    {
      "cell_type": "code",
      "execution_count": 10,
      "id": "ATxrzNMf7XhY",
      "metadata": {
        "id": "ATxrzNMf7XhY"
      },
      "outputs": [],
      "source": [
        "logging.getLogger(\"lightning.pytorch\").setLevel(logging.INFO)"
      ]
    },
    {
      "attachments": {},
      "cell_type": "markdown",
      "id": "432b1cd2",
      "metadata": {
        "id": "432b1cd2"
      },
      "source": [
        "# Training"
      ]
    },
    {
      "cell_type": "code",
      "execution_count": 12,
      "id": "d30157c8",
      "metadata": {
        "id": "d30157c8"
      },
      "outputs": [],
      "source": [
        "model = Digits(\n",
        "    optimizer_name='SGD',\n",
        "    optimizer_hparams={\n",
        "        'lr': 0.001,\n",
        "        'momentum': 0.9\n",
        "    }\n",
        ")\n",
        "\n",
        "earlystopping_callbacks = [\n",
        "    DiffEarlyStopping(\n",
        "        monitor1=\"val_loss\",\n",
        "        monitor2=\"train_loss\",\n",
        "        diff_threshold=0.05, # like val_loss=0.09, train_loss=0.04\n",
        "        patience=5,\n",
        "        verbose=True\n",
        "    ),\n",
        "    # EarlyStopping(\n",
        "    #     monitor=\"val_acc\",\n",
        "    #     min_delta=0.0,\n",
        "    #     mode='max',\n",
        "    #     stopping_threshold=99.99,\n",
        "    #     patience=5,\n",
        "    #     verbose=True\n",
        "    # ),\n",
        "]\n",
        "\n",
        "checkpoint_callback = callbacks.ModelCheckpoint(\n",
        "    filename=\"epoch={epoch}-loss={val_loss:.3f}\",\n",
        "    auto_insert_metric_name=False,\n",
        "    monitor='val_loss',\n",
        "    mode='min',\n",
        "    save_top_k=3\n",
        ")"
      ]
    },
    {
      "cell_type": "code",
      "execution_count": 13,
      "id": "Wvh5_S7hFo02",
      "metadata": {
        "colab": {
          "base_uri": "https://localhost:8080/"
        },
        "id": "Wvh5_S7hFo02",
        "outputId": "0118779b-aa91-46db-8a3b-c07c1ac71c38"
      },
      "outputs": [
        {
          "data": {
            "text/plain": [
              "  | Name  | Type       | Params\n",
              "-------------------------------------\n",
              "0 | model | Sequential | 322 K \n",
              "-------------------------------------\n",
              "322 K     Trainable params\n",
              "0         Non-trainable params\n",
              "322 K     Total params\n",
              "1.288     Total estimated model params size (MB)"
            ]
          },
          "execution_count": 13,
          "metadata": {},
          "output_type": "execute_result"
        }
      ],
      "source": [
        "utilities.model_summary.ModelSummary(model)"
      ]
    },
    {
      "cell_type": "code",
      "execution_count": 14,
      "id": "17eef3c0",
      "metadata": {},
      "outputs": [
        {
          "name": "stdout",
          "output_type": "stream",
          "text": [
            "tensor(657.)\n",
            "tensor(282.)\n"
          ]
        }
      ],
      "source": [
        "# Number of training batches\n",
        "print(torch.ceil(torch.tensor(len(dm.train_dataset) / 64)))\n",
        "print(torch.ceil(torch.tensor(len(dm.valid_dataset) / 64)))"
      ]
    },
    {
      "cell_type": "code",
      "execution_count": 15,
      "id": "155f1297",
      "metadata": {
        "colab": {
          "base_uri": "https://localhost:8080/"
        },
        "editable": true,
        "id": "155f1297",
        "outputId": "cf1588b2-737e-45b5-87dc-8273d538148c",
        "tags": []
      },
      "outputs": [
        {
          "name": "stderr",
          "output_type": "stream",
          "text": [
            "Failed to detect the name of this notebook, you can set it manually with the WANDB_NOTEBOOK_NAME environment variable to enable code saving.\n",
            "\u001b[34m\u001b[1mwandb\u001b[0m: Currently logged in as: \u001b[33msampath017\u001b[0m. Use \u001b[1m`wandb login --relogin`\u001b[0m to force relogin\n"
          ]
        },
        {
          "data": {
            "application/vnd.jupyter.widget-view+json": {
              "model_id": "c9eba88425174190abd1756336bd6fc9",
              "version_major": 2,
              "version_minor": 0
            },
            "text/plain": [
              "VBox(children=(Label(value='Waiting for wandb.init()...\\r'), FloatProgress(value=0.01693333333338766, max=1.0)…"
            ]
          },
          "metadata": {},
          "output_type": "display_data"
        },
        {
          "data": {
            "text/html": [
              "Tracking run with wandb version 0.15.8"
            ],
            "text/plain": [
              "<IPython.core.display.HTML object>"
            ]
          },
          "metadata": {},
          "output_type": "display_data"
        },
        {
          "data": {
            "text/html": [
              "Run data is saved locally in <code>..\\logs\\wandb\\run-20230819_113524-49kzw2yz</code>"
            ],
            "text/plain": [
              "<IPython.core.display.HTML object>"
            ]
          },
          "metadata": {},
          "output_type": "display_data"
        },
        {
          "data": {
            "text/html": [
              "Syncing run <strong><a href='https://wandb.ai/sampath017/digits/runs/49kzw2yz' target=\"_blank\">fanciful-cloud-94</a></strong> to <a href='https://wandb.ai/sampath017/digits' target=\"_blank\">Weights & Biases</a> (<a href='https://wandb.me/run' target=\"_blank\">docs</a>)<br/>"
            ],
            "text/plain": [
              "<IPython.core.display.HTML object>"
            ]
          },
          "metadata": {},
          "output_type": "display_data"
        },
        {
          "data": {
            "text/html": [
              " View project at <a href='https://wandb.ai/sampath017/digits' target=\"_blank\">https://wandb.ai/sampath017/digits</a>"
            ],
            "text/plain": [
              "<IPython.core.display.HTML object>"
            ]
          },
          "metadata": {},
          "output_type": "display_data"
        },
        {
          "data": {
            "text/html": [
              " View run at <a href='https://wandb.ai/sampath017/digits/runs/49kzw2yz' target=\"_blank\">https://wandb.ai/sampath017/digits/runs/49kzw2yz</a>"
            ],
            "text/plain": [
              "<IPython.core.display.HTML object>"
            ]
          },
          "metadata": {},
          "output_type": "display_data"
        },
        {
          "name": "stderr",
          "output_type": "stream",
          "text": [
            "GPU available: False, used: False\n",
            "TPU available: False, using: 0 TPU cores\n",
            "IPU available: False, using: 0 IPUs\n",
            "HPU available: False, using: 0 HPUs\n"
          ]
        }
      ],
      "source": [
        "max_time =  {'minutes': 20} if torch.cuda.is_available() else {'hours': 2}\n",
        "\n",
        "log_dir = root_path/'logs'\n",
        "log_dir.mkdir(exist_ok=True)\n",
        "\n",
        "api_key = None\n",
        "try:\n",
        "    with open(root_path/'secrets.json') as f:\n",
        "        secrets = json.load(f)\n",
        "    api_key = secrets.get(\"WANDB_API_KEY\")\n",
        "except FileNotFoundError:\n",
        "    pass\n",
        "\n",
        "logger = loggers.WandbLogger(\n",
        "    project='digits',\n",
        "    save_dir=log_dir,\n",
        "    log_model='all',\n",
        "    # api_key=api_key\n",
        ")\n",
        "\n",
        "trainer = Trainer(\n",
        "    min_epochs=10,\n",
        "    max_epochs=50,\n",
        "    log_every_n_steps=1,\n",
        "    max_time=max_time,\n",
        "    logger=logger,\n",
        "    callbacks=[checkpoint_callback] + earlystopping_callbacks,\n",
        "    enable_model_summary=False,\n",
        ")"
      ]
    },
    {
      "cell_type": "code",
      "execution_count": 16,
      "id": "zEHbqggmE5GH",
      "metadata": {
        "id": "zEHbqggmE5GH"
      },
      "outputs": [
        {
          "data": {
            "application/vnd.jupyter.widget-view+json": {
              "model_id": "cf928229c4ef486097c5115ba2f9eb90",
              "version_major": 2,
              "version_minor": 0
            },
            "text/plain": [
              "Sanity Checking: 0it [00:00, ?it/s]"
            ]
          },
          "metadata": {},
          "output_type": "display_data"
        },
        {
          "data": {
            "application/vnd.jupyter.widget-view+json": {
              "model_id": "482611cb7eb0445fb30bfb8560e2687b",
              "version_major": 2,
              "version_minor": 0
            },
            "text/plain": [
              "Training: 0it [00:00, ?it/s]"
            ]
          },
          "metadata": {},
          "output_type": "display_data"
        },
        {
          "data": {
            "application/vnd.jupyter.widget-view+json": {
              "model_id": "d8fd36a2c8b14cd8a297d9e731d65463",
              "version_major": 2,
              "version_minor": 0
            },
            "text/plain": [
              "Validation: 0it [00:00, ?it/s]"
            ]
          },
          "metadata": {},
          "output_type": "display_data"
        },
        {
          "data": {
            "application/vnd.jupyter.widget-view+json": {
              "model_id": "02674a38fcbd4b358645f4590885bdfc",
              "version_major": 2,
              "version_minor": 0
            },
            "text/plain": [
              "Validation: 0it [00:00, ?it/s]"
            ]
          },
          "metadata": {},
          "output_type": "display_data"
        },
        {
          "data": {
            "application/vnd.jupyter.widget-view+json": {
              "model_id": "3586ecb8b7c24f0587813b9b9deea5bc",
              "version_major": 2,
              "version_minor": 0
            },
            "text/plain": [
              "Validation: 0it [00:00, ?it/s]"
            ]
          },
          "metadata": {},
          "output_type": "display_data"
        },
        {
          "data": {
            "application/vnd.jupyter.widget-view+json": {
              "model_id": "535f7b7411ac49cfaacfefa6ccf3d6d8",
              "version_major": 2,
              "version_minor": 0
            },
            "text/plain": [
              "Validation: 0it [00:00, ?it/s]"
            ]
          },
          "metadata": {},
          "output_type": "display_data"
        },
        {
          "data": {
            "application/vnd.jupyter.widget-view+json": {
              "model_id": "ab95fe7b3ec04597a086b51b7f8e6db7",
              "version_major": 2,
              "version_minor": 0
            },
            "text/plain": [
              "Validation: 0it [00:00, ?it/s]"
            ]
          },
          "metadata": {},
          "output_type": "display_data"
        },
        {
          "name": "stderr",
          "output_type": "stream",
          "text": [
            "c:\\Dev\\digits\\.venv\\lib\\site-packages\\lightning\\pytorch\\trainer\\call.py:53: UserWarning: Detected KeyboardInterrupt, attempting graceful shutdown...\n",
            "  rank_zero_warn(\"Detected KeyboardInterrupt, attempting graceful shutdown...\")\n"
          ]
        }
      ],
      "source": [
        "trainer.fit(model, train_dataloader, valid_dataloader)"
      ]
    },
    {
      "cell_type": "code",
      "execution_count": null,
      "id": "xc9Xwtc2vTwt",
      "metadata": {
        "id": "xc9Xwtc2vTwt"
      },
      "outputs": [
        {
          "data": {
            "text/html": [
              "Waiting for W&B process to finish... <strong style=\"color:green\">(success).</strong>"
            ],
            "text/plain": [
              "<IPython.core.display.HTML object>"
            ]
          },
          "metadata": {},
          "output_type": "display_data"
        },
        {
          "data": {
            "text/html": [
              "<style>\n",
              "    table.wandb td:nth-child(1) { padding: 0 10px; text-align: left ; width: auto;} td:nth-child(2) {text-align: left ; width: 100%}\n",
              "    .wandb-row { display: flex; flex-direction: row; flex-wrap: wrap; justify-content: flex-start; width: 100% }\n",
              "    .wandb-col { display: flex; flex-direction: column; flex-basis: 100%; flex: 1; padding: 10px; }\n",
              "    </style>\n",
              "<div class=\"wandb-row\"><div class=\"wandb-col\"><h3>Run history:</h3><br/><table class=\"wandb\"><tr><td>epoch</td><td>▁▁▁▁▁▁▁▁▁▁▁▁▁▁▁█████████</td></tr><tr><td>train_acc_epoch</td><td>▁</td></tr><tr><td>train_acc_step</td><td>▅▁▂▂▅▅▃▅█▄▂▆▆▇▆▇█▄▂▆▅▃</td></tr><tr><td>train_loss_epoch</td><td>▁</td></tr><tr><td>train_loss_step</td><td>▃█▇▅▇▅▆▃▁▆▅▆▅▄▂▄▂▃█▂▄▆</td></tr><tr><td>trainer/global_step</td><td>▂▄▁▁▁▁▁▁▁▁▁▂▂▂▂▂▂▂▂▂▂▂▂▂▂▂▂▂▂▂▃▃▃▃▃▃▃▃▆█</td></tr><tr><td>val_acc_epoch</td><td>▁</td></tr><tr><td>val_acc_step</td><td>▃▅▃▃▅▂▆▄▃▄▅▁▃▂▁▂▄▅▂▃█▄▂▆▁▃▂▄▂▅▅▃▅▃▅▄▅▄▂▂</td></tr><tr><td>val_loss_epoch</td><td>▁</td></tr><tr><td>val_loss_step</td><td>▅▃▇▅▅▆▁▄▄▇▃█▅▇▆▆▅▅▇▆▃▆▇▂█▆▆▁▆▄▆▅▄▆▄▆▅▇▆▆</td></tr></table><br/></div><div class=\"wandb-col\"><h3>Run summary:</h3><br/><table class=\"wandb\"><tr><td>epoch</td><td>1</td></tr><tr><td>train_acc_epoch</td><td>10.67619</td></tr><tr><td>train_acc_step</td><td>7.8125</td></tr><tr><td>train_loss_epoch</td><td>2.30215</td></tr><tr><td>train_loss_step</td><td>2.30606</td></tr><tr><td>trainer/global_step</td><td>1099</td></tr><tr><td>val_acc_epoch</td><td>11.37778</td></tr><tr><td>val_acc_step</td><td>12.5</td></tr><tr><td>val_loss_epoch</td><td>2.30092</td></tr><tr><td>val_loss_step</td><td>2.3057</td></tr></table><br/></div></div>"
            ],
            "text/plain": [
              "<IPython.core.display.HTML object>"
            ]
          },
          "metadata": {},
          "output_type": "display_data"
        },
        {
          "data": {
            "text/html": [
              " View run <strong style=\"color:#cdcd00\">golden-shape-89</strong> at: <a href='https://wandb.ai/sampath017/digits/runs/z9rm2ase' target=\"_blank\">https://wandb.ai/sampath017/digits/runs/z9rm2ase</a><br/>Synced 5 W&B file(s), 0 media file(s), 1 artifact file(s) and 0 other file(s)"
            ],
            "text/plain": [
              "<IPython.core.display.HTML object>"
            ]
          },
          "metadata": {},
          "output_type": "display_data"
        },
        {
          "data": {
            "text/html": [
              "Find logs at: <code>..\\logs\\wandb\\run-20230819_101133-z9rm2ase\\logs</code>"
            ],
            "text/plain": [
              "<IPython.core.display.HTML object>"
            ]
          },
          "metadata": {},
          "output_type": "display_data"
        }
      ],
      "source": [
        "wandb.finish()"
      ]
    },
    {
      "cell_type": "code",
      "execution_count": null,
      "id": "85634a30",
      "metadata": {
        "id": "85634a30"
      },
      "outputs": [
        {
          "data": {
            "text/plain": [
              "'..\\\\logs\\\\digits\\\\z9rm2ase\\\\checkpoints\\\\epoch=0-loss=2.301.ckpt'"
            ]
          },
          "execution_count": 10,
          "metadata": {},
          "output_type": "execute_result"
        }
      ],
      "source": [
        "checkpoint_callback.best_model_path"
      ]
    },
    {
      "cell_type": "code",
      "execution_count": null,
      "id": "83e3f5e4",
      "metadata": {
        "id": "83e3f5e4"
      },
      "outputs": [],
      "source": []
    }
  ],
  "metadata": {
    "accelerator": "GPU",
    "colab": {
      "gpuType": "T4",
      "provenance": []
    },
    "kernelspec": {
      "display_name": "Python 3",
      "name": "python3"
    },
    "language_info": {
      "codemirror_mode": {
        "name": "ipython",
        "version": 3
      },
      "file_extension": ".py",
      "mimetype": "text/x-python",
      "name": "python",
      "nbconvert_exporter": "python",
      "pygments_lexer": "ipython3",
      "version": "3.10.11"
    }
  },
  "nbformat": 4,
  "nbformat_minor": 5
}
