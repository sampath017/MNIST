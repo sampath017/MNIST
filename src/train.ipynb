{
 "cells": [
  {
   "cell_type": "code",
   "execution_count": 1,
   "id": "ede06012",
   "metadata": {},
   "outputs": [],
   "source": [
    "import sys\n",
    "\n",
    "# Add root path\n",
    "sys.path.append(\"../\")"
   ]
  },
  {
   "cell_type": "code",
   "execution_count": 2,
   "id": "8460534f-7fd6-43be-b538-25576f9d8f58",
   "metadata": {},
   "outputs": [],
   "source": [
    "import matplotlib.pyplot as plt\n",
    "import numpy as np\n",
    "from pathlib import Path\n",
    "from PIL import Image\n",
    "\n",
    "import torch\n",
    "from torch import nn\n",
    "from torch.utils.data import DataLoader\n",
    "from torch.utils.data import random_split\n",
    "from torchvision.transforms import ToTensor\n",
    "\n",
    "from utils import MNIST, accuracy"
   ]
  },
  {
   "cell_type": "code",
   "execution_count": 3,
   "id": "653cf853",
   "metadata": {},
   "outputs": [],
   "source": [
    "dataset = MNIST(Path('../data/train'), transform=ToTensor())"
   ]
  },
  {
   "cell_type": "code",
   "execution_count": 4,
   "id": "7681be2a",
   "metadata": {},
   "outputs": [
    {
     "data": {
      "text/plain": [
       "Dataset MNIST\n",
       "    Number of datapoints: 60000\n",
       "    Root location: ../data/train\n",
       "    StandardTransform\n",
       "Transform: ToTensor()"
      ]
     },
     "execution_count": 4,
     "metadata": {},
     "output_type": "execute_result"
    }
   ],
   "source": [
    "dataset"
   ]
  },
  {
   "cell_type": "code",
   "execution_count": 5,
   "id": "560307be",
   "metadata": {},
   "outputs": [
    {
     "data": {
      "image/png": "[encoded data removed]",
      "text/plain": [
       "<Figure size 800x800 with 9 Axes>"
      ]
     },
     "metadata": {},
     "output_type": "display_data"
    }
   ],
   "source": [
    "dataset.show_batch()"
   ]
  },
  {
   "cell_type": "code",
   "execution_count": 6,
   "id": "7b4c40ca",
   "metadata": {},
   "outputs": [],
   "source": [
    "train_size = int(0.7 * len(dataset))\n",
    "valid_size = len(dataset) - train_size\n",
    "\n",
    "train_dataset, valid_dataset = random_split(dataset, [train_size, valid_size])"
   ]
  },
  {
   "cell_type": "code",
   "execution_count": 7,
   "id": "2b2502fd",
   "metadata": {},
   "outputs": [],
   "source": [
    "train_dataloader = DataLoader(train_dataset, batch_size=64, shuffle=True)\n",
    "valid_dataloader = DataLoader(valid_dataset, batch_size=64)"
   ]
  },
  {
   "cell_type": "code",
   "execution_count": 8,
   "id": "f3ec2607",
   "metadata": {},
   "outputs": [
    {
     "name": "stdout",
     "output_type": "stream",
     "text": [
      "Shape of X [N, C, H, W]: torch.Size([64, 1, 28, 28])\n",
      "Shape of y: torch.Size([64]) torch.int64\n"
     ]
    }
   ],
   "source": [
    "for X, y in train_dataloader:\n",
    "    print(f\"Shape of X [N, C, H, W]: {X.shape}\")\n",
    "    print(f\"Shape of y: {y.shape} {y.dtype}\")\n",
    "    break"
   ]
  },
  {
   "cell_type": "code",
   "execution_count": 9,
   "id": "0a9ab5d5",
   "metadata": {},
   "outputs": [
    {
     "name": "stdout",
     "output_type": "stream",
     "text": [
      "Using cpu device\n"
     ]
    }
   ],
   "source": [
    "# Get cpu, gpu or mps device for training.\n",
    "device = \"cuda\" if torch.cuda.is_available() else \"cpu\"\n",
    "\n",
    "print(f\"Using {device} device\")"
   ]
  },
  {
   "cell_type": "code",
   "execution_count": 10,
   "id": "22358de3",
   "metadata": {},
   "outputs": [],
   "source": [
    "from models.LeNet5.arch import LeNet5"
   ]
  },
  {
   "cell_type": "code",
   "execution_count": 11,
   "id": "9738dfb1",
   "metadata": {},
   "outputs": [
    {
     "name": "stdout",
     "output_type": "stream",
     "text": [
      "LeNet5(\n",
      "  (layers): Sequential(\n",
      "    (0): Conv2d(1, 12, kernel_size=(5, 5), stride=(1, 1))\n",
      "    (1): ReLU()\n",
      "    (2): MaxPool2d(kernel_size=2, stride=2, padding=0, dilation=1, ceil_mode=False)\n",
      "    (3): Conv2d(12, 16, kernel_size=(5, 5), stride=(1, 1))\n",
      "    (4): ReLU()\n",
      "    (5): MaxPool2d(kernel_size=2, stride=2, padding=0, dilation=1, ceil_mode=False)\n",
      "    (6): Flatten(start_dim=1, end_dim=-1)\n",
      "    (7): Linear(in_features=256, out_features=512, bias=True)\n",
      "    (8): ReLU()\n",
      "    (9): Linear(in_features=512, out_features=84, bias=True)\n",
      "    (10): ReLU()\n",
      "    (11): Linear(in_features=84, out_features=10, bias=True)\n",
      "  )\n",
      ")\n"
     ]
    }
   ],
   "source": [
    "model = LeNet5().to(device)\n",
    "\n",
    "print(model)"
   ]
  },
  {
   "cell_type": "code",
   "execution_count": 12,
   "id": "155f1297",
   "metadata": {},
   "outputs": [],
   "source": [
    "loss_fn = nn.CrossEntropyLoss()\n",
    "optimizer = torch.optim.Adam(model.parameters())"
   ]
  },
  {
   "cell_type": "code",
   "execution_count": 13,
   "id": "e39ad519",
   "metadata": {},
   "outputs": [],
   "source": [
    "def train(dataloader, model, loss_fn, optimizer):\n",
    "    len_dataset = len(dataloader.dataset)\n",
    "\n",
    "    model.train()\n",
    "    for batch, (X, y_true) in enumerate(dataloader):\n",
    "        # Forward pass\n",
    "        X, y_true = X.to(device), y_true.to(device)\n",
    "        y_pred = model(X)\n",
    "\n",
    "        # Compute prediction error\n",
    "        loss = loss_fn(y_pred, y_true)\n",
    "\n",
    "        # Backpropagation\n",
    "        loss.backward()\n",
    "        optimizer.step()\n",
    "        optimizer.zero_grad()\n",
    "\n",
    "        # Print stats\n",
    "        if batch % 100 == 0:\n",
    "            loss = loss.item()\n",
    "            current_batch = (batch + 1) * len(X)\n",
    "            acc = accuracy(y_true, y_pred)\n",
    "            print(f\"Loss: {loss:>3.3f} Accuracy: {acc:>4.3f}% Current Batch: [{current_batch:>5d}/{len_dataset:>5d}]\")"
   ]
  },
  {
   "cell_type": "code",
   "execution_count": 14,
   "id": "4c42ecd0",
   "metadata": {},
   "outputs": [],
   "source": [
    "def valid(dataloader, model, loss_fn):\n",
    "    len_dataset = len(dataloader.dataset)\n",
    "    num_batches = dataloader.batch_size\n",
    "    test_loss = 0.0\n",
    "    acc = 0.0\n",
    "\n",
    "    model.eval()\n",
    "    with torch.no_grad():\n",
    "        for X, y_true in dataloader:\n",
    "            # Forward pass\n",
    "            X, y_true = X.to(device), y_true.to(device)\n",
    "            y_pred = model(X)\n",
    "\n",
    "            # Compute prediction error and accuracy\n",
    "            test_loss += loss_fn(y_pred, y_true).item()\n",
    "            acc += accuracy(y_true, y_pred)\n",
    "\n",
    "    # Print stats\n",
    "    test_loss /= num_batches\n",
    "    acc /= len_dataset\n",
    "    print(\n",
    "        f\"Valid Error: \\n Accuracy: {(100*acc):>4.3f}%, Avg loss: {test_loss:>3.3f} \\n\")"
   ]
  },
  {
   "cell_type": "code",
   "execution_count": 15,
   "id": "971a917c",
   "metadata": {},
   "outputs": [
    {
     "name": "stdout",
     "output_type": "stream",
     "text": [
      "Epoch 1\n",
      "-------------------------------\n",
      "Loss: 2.312 Accuracy: 5.000% Current Batch: [   64/42000]\n",
      "Loss: 0.460 Accuracy: 58.000% Current Batch: [ 6464/42000]\n",
      "Loss: 0.264 Accuracy: 60.000% Current Batch: [12864/42000]\n",
      "Loss: 0.138 Accuracy: 61.000% Current Batch: [19264/42000]\n",
      "Loss: 0.196 Accuracy: 62.000% Current Batch: [25664/42000]\n",
      "Loss: 0.069 Accuracy: 63.000% Current Batch: [32064/42000]\n",
      "Loss: 0.169 Accuracy: 60.000% Current Batch: [38464/42000]\n",
      "Valid Error: \n",
      " Accuracy: 96.717%, Avg loss: 0.451 \n",
      "\n",
      "Epoch 2\n",
      "-------------------------------\n",
      "Loss: 0.159 Accuracy: 61.000% Current Batch: [   64/42000]\n",
      "Loss: 0.215 Accuracy: 62.000% Current Batch: [ 6464/42000]\n",
      "Loss: 0.052 Accuracy: 62.000% Current Batch: [12864/42000]\n",
      "Loss: 0.098 Accuracy: 62.000% Current Batch: [19264/42000]\n",
      "Loss: 0.079 Accuracy: 62.000% Current Batch: [25664/42000]\n",
      "Loss: 0.019 Accuracy: 64.000% Current Batch: [32064/42000]\n",
      "Loss: 0.024 Accuracy: 63.000% Current Batch: [38464/42000]\n",
      "Valid Error: \n",
      " Accuracy: 98.017%, Avg loss: 0.273 \n",
      "\n",
      "Epoch 3\n",
      "-------------------------------\n",
      "Loss: 0.011 Accuracy: 64.000% Current Batch: [   64/42000]\n",
      "Loss: 0.067 Accuracy: 63.000% Current Batch: [ 6464/42000]\n",
      "Loss: 0.063 Accuracy: 62.000% Current Batch: [12864/42000]\n",
      "Loss: 0.163 Accuracy: 62.000% Current Batch: [19264/42000]\n",
      "Loss: 0.037 Accuracy: 63.000% Current Batch: [25664/42000]\n",
      "Loss: 0.032 Accuracy: 64.000% Current Batch: [32064/42000]\n",
      "Loss: 0.037 Accuracy: 64.000% Current Batch: [38464/42000]\n",
      "Valid Error: \n",
      " Accuracy: 98.117%, Avg loss: 0.268 \n",
      "\n",
      "Epoch 4\n",
      "-------------------------------\n",
      "Loss: 0.010 Accuracy: 64.000% Current Batch: [   64/42000]\n",
      "Loss: 0.045 Accuracy: 63.000% Current Batch: [ 6464/42000]\n",
      "Loss: 0.015 Accuracy: 64.000% Current Batch: [12864/42000]\n",
      "Loss: 0.026 Accuracy: 63.000% Current Batch: [19264/42000]\n",
      "Loss: 0.092 Accuracy: 62.000% Current Batch: [25664/42000]\n",
      "Loss: 0.020 Accuracy: 63.000% Current Batch: [32064/42000]\n",
      "Loss: 0.008 Accuracy: 64.000% Current Batch: [38464/42000]\n",
      "Valid Error: \n",
      " Accuracy: 98.450%, Avg loss: 0.232 \n",
      "\n",
      "Epoch 5\n",
      "-------------------------------\n",
      "Loss: 0.007 Accuracy: 64.000% Current Batch: [   64/42000]\n",
      "Loss: 0.008 Accuracy: 64.000% Current Batch: [ 6464/42000]\n",
      "Loss: 0.005 Accuracy: 64.000% Current Batch: [12864/42000]\n",
      "Loss: 0.016 Accuracy: 64.000% Current Batch: [19264/42000]\n",
      "Loss: 0.035 Accuracy: 63.000% Current Batch: [25664/42000]\n",
      "Loss: 0.044 Accuracy: 62.000% Current Batch: [32064/42000]\n",
      "Loss: 0.004 Accuracy: 64.000% Current Batch: [38464/42000]\n",
      "Valid Error: \n",
      " Accuracy: 98.389%, Avg loss: 0.224 \n",
      "\n",
      "Done!\n"
     ]
    }
   ],
   "source": [
    "epochs = 5\n",
    "for epoch in range(1, epochs+1):\n",
    "    print(f\"Epoch {epoch}\\n-------------------------------\")\n",
    "    train(train_dataloader, model, loss_fn, optimizer)\n",
    "    valid(valid_dataloader, model, loss_fn)\n",
    "print(\"Done!\")"
   ]
  },
  {
   "cell_type": "code",
   "execution_count": 16,
   "id": "0ce7853a",
   "metadata": {},
   "outputs": [],
   "source": [
    "from sklearn.metrics import classification_report, ConfusionMatrixDisplay"
   ]
  },
  {
   "cell_type": "code",
   "execution_count": 17,
   "id": "347f5458",
   "metadata": {},
   "outputs": [],
   "source": [
    "def test(dataloader, model, loss_fn):\n",
    "    model.eval()\n",
    "    loss = 0\n",
    "    acc = 0\n",
    "    y_true = []\n",
    "    y_pred = []\n",
    "    len_dataset = len(dataloader.dataset)\n",
    "    num_batches = dataloader.batch_size\n",
    "    with torch.no_grad():\n",
    "        for X, y in dataloader:\n",
    "            # Forward pass\n",
    "            X, y = X.to(device), y.to(device)\n",
    "            preds = model(X)\n",
    "\n",
    "            # Compute prediction error and accuracy\n",
    "            loss += loss_fn(preds, y).item()\n",
    "            acc += accuracy(y, preds)\n",
    "\n",
    "            y_true.extend(y.tolist())\n",
    "            y_pred.extend(preds.tolist())\n",
    "\n",
    "    loss /= num_batches\n",
    "    acc = 100.0 * (acc / len_dataset)\n",
    "    target_names = [str(label) for label in range(10)]\n",
    "\n",
    "    print(\n",
    "        f'Test set: Average loss: {loss:>3.3f}, Accuracy: {acc:>3.3f}%')\n",
    "\n",
    "    y_true = torch.tensor(y_true)\n",
    "    y_pred = torch.tensor(y_pred).argmax(axis=-1)\n",
    "    \n",
    "    return y_true, y_pred, target_names"
   ]
  },
  {
   "cell_type": "code",
   "execution_count": 18,
   "id": "b187fb1b",
   "metadata": {},
   "outputs": [
    {
     "name": "stdout",
     "output_type": "stream",
     "text": [
      "Test set: Average loss: 0.224, Accuracy: 98.389%\n"
     ]
    }
   ],
   "source": [
    "y_true, y_pred, target_names = test(valid_dataloader, model, loss_fn)"
   ]
  },
  {
   "cell_type": "code",
   "execution_count": 19,
   "id": "c493abf1",
   "metadata": {},
   "outputs": [
    {
     "data": {
      "image/png": "[encoded data removed]",
      "text/plain": [
       "<Figure size 640x480 with 2 Axes>"
      ]
     },
     "metadata": {},
     "output_type": "display_data"
    }
   ],
   "source": [
    "disp = ConfusionMatrixDisplay.from_predictions(y_true, y_pred)\n",
    "disp.figure_.suptitle(\"Confusion Matrix\")\n",
    "\n",
    "plt.show()"
   ]
  },
  {
   "cell_type": "code",
   "execution_count": 20,
   "id": "2c3e8e0d",
   "metadata": {},
   "outputs": [
    {
     "name": "stdout",
     "output_type": "stream",
     "text": [
      "              precision    recall  f1-score   support\n",
      "\n",
      "           0       0.99      0.99      0.99      1788\n",
      "           1       0.99      1.00      0.99      1978\n",
      "           2       0.98      0.99      0.98      1780\n",
      "           3       0.99      0.97      0.98      1824\n",
      "           4       0.98      0.99      0.99      1740\n",
      "           5       0.98      0.98      0.98      1649\n",
      "           6       0.98      0.99      0.99      1797\n",
      "           7       0.98      0.99      0.98      1867\n",
      "           8       0.99      0.96      0.98      1766\n",
      "           9       0.97      0.98      0.98      1811\n",
      "\n",
      "    accuracy                           0.98     18000\n",
      "   macro avg       0.98      0.98      0.98     18000\n",
      "weighted avg       0.98      0.98      0.98     18000\n",
      "\n"
     ]
    }
   ],
   "source": [
    "print(classification_report(y_true, y_pred))"
   ]
  },
  {
   "attachments": {},
   "cell_type": "markdown",
   "id": "5b4eea52",
   "metadata": {},
   "source": [
    "## Save model"
   ]
  },
  {
   "cell_type": "code",
   "execution_count": 21,
   "id": "762322d7",
   "metadata": {},
   "outputs": [],
   "source": [
    "models_path = Path('../models/')\n",
    "LeNet5_model_path = models_path / \"LeNet5/LeNet5.pth\""
   ]
  },
  {
   "cell_type": "code",
   "execution_count": 22,
   "id": "515ca997",
   "metadata": {},
   "outputs": [
    {
     "name": "stdout",
     "output_type": "stream",
     "text": [
      "Saved PyTorch Model State to ../models/LeNet5/LeNet5.pth\n"
     ]
    }
   ],
   "source": [
    "torch.save(model.state_dict(), LeNet5_model_path)\n",
    "print(f\"Saved PyTorch Model State to {LeNet5_model_path}\")"
   ]
  },
  {
   "cell_type": "code",
   "execution_count": null,
   "id": "83e3f5e4",
   "metadata": {},
   "outputs": [],
   "source": []
  }
 ],
 "metadata": {
  "kernelspec": {
   "display_name": "Python 3 (ipykernel)",
   "language": "python",
   "name": "python3"
  },
  "language_info": {
   "codemirror_mode": {
    "name": "ipython",
    "version": 3
   },
   "file_extension": ".py",
   "mimetype": "text/x-python",
   "name": "python",
   "nbconvert_exporter": "python",
   "pygments_lexer": "ipython3",
   "version": "3.9.16"
  }
 },
 "nbformat": 4,
 "nbformat_minor": 5
}
